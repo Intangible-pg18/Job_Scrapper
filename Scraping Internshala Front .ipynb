{
 "cells": [
  {
   "cell_type": "code",
   "execution_count": 1,
   "id": "f83edffb",
   "metadata": {},
   "outputs": [
    {
     "ename": "ModuleNotFoundError",
     "evalue": "No module named 'scrapy'",
     "output_type": "error",
     "traceback": [
      "\u001b[1;31m---------------------------------------------------------------------------\u001b[0m",
      "\u001b[1;31mModuleNotFoundError\u001b[0m                       Traceback (most recent call last)",
      "\u001b[1;32m<ipython-input-1-46c01d1ed153>\u001b[0m in \u001b[0;36m<module>\u001b[1;34m\u001b[0m\n\u001b[0;32m      2\u001b[0m \u001b[1;33m\u001b[0m\u001b[0m\n\u001b[0;32m      3\u001b[0m \u001b[1;32mimport\u001b[0m \u001b[0mrequests\u001b[0m\u001b[1;33m\u001b[0m\u001b[1;33m\u001b[0m\u001b[0m\n\u001b[1;32m----> 4\u001b[1;33m \u001b[1;32mimport\u001b[0m \u001b[0mscrapy\u001b[0m\u001b[1;33m\u001b[0m\u001b[1;33m\u001b[0m\u001b[0m\n\u001b[0m\u001b[0;32m      5\u001b[0m \u001b[1;32mfrom\u001b[0m \u001b[0mbs4\u001b[0m \u001b[1;32mimport\u001b[0m \u001b[0mBeautifulSoup\u001b[0m\u001b[1;33m\u001b[0m\u001b[1;33m\u001b[0m\u001b[0m\n\u001b[0;32m      6\u001b[0m \u001b[1;32mfrom\u001b[0m \u001b[0mscrapy\u001b[0m \u001b[1;32mimport\u001b[0m \u001b[0mSelector\u001b[0m\u001b[1;33m\u001b[0m\u001b[1;33m\u001b[0m\u001b[0m\n",
      "\u001b[1;31mModuleNotFoundError\u001b[0m: No module named 'scrapy'"
     ]
    }
   ],
   "source": [
    "#importing required packages\n",
    "\n",
    "import requests\n",
    "import scrapy\n",
    "from bs4 import BeautifulSoup\n",
    "from scrapy import Selector\n",
    "from scrapy.crawler import CrawlerProcess\n",
    "from twisted.internet import reactor\n",
    "from scrapy.crawler import CrawlerRunner\n",
    "import string\n",
    "import pandas as pd"
   ]
  },
  {
   "cell_type": "code",
   "execution_count": null,
   "id": "42f42366",
   "metadata": {},
   "outputs": [],
   "source": [
    "#url of the website to scrape\n",
    "\n",
    "url='https://internshala.com/fresher-jobs'"
   ]
  },
  {
   "cell_type": "code",
   "execution_count": null,
   "id": "a99afcde",
   "metadata": {},
   "outputs": [],
   "source": [
    "#raw html data from website\n",
    "\n",
    "html=requests.get(url).content\n",
    "#html"
   ]
  },
  {
   "cell_type": "code",
   "execution_count": null,
   "id": "b22d9918",
   "metadata": {},
   "outputs": [],
   "source": [
    "#html in well formatted form\n",
    "\n",
    "pretty_html=BeautifulSoup(html).prettify()\n",
    "#pretty_html"
   ]
  },
  {
   "cell_type": "code",
   "execution_count": null,
   "id": "1a54051c",
   "metadata": {},
   "outputs": [],
   "source": [
    "#creating scrapy's selector object to select the html above\n",
    "\n",
    "sel=Selector(text=pretty_html)"
   ]
  },
  {
   "cell_type": "code",
   "execution_count": null,
   "id": "eb2e9d68",
   "metadata": {},
   "outputs": [],
   "source": [
    "#final, the dictionary which would be later converted to a dataframe, final_df, to store the scraped data\n",
    "\n",
    "final={'ID':[],'Job_Post':[],'Company':[],'Location':[],'CTC':[]}\n",
    "final_df=pd.DataFrame()"
   ]
  },
  {
   "cell_type": "code",
   "execution_count": null,
   "id": "5997629f",
   "metadata": {},
   "outputs": [],
   "source": [
    "#scraping available job's ID\n",
    "\n",
    "final['ID']=sel.xpath('//div[@class=\"container-fluid individual_internship visibilityTrackerItem\"]/@internshipid').extract()\n",
    "final['ID']"
   ]
  },
  {
   "cell_type": "code",
   "execution_count": null,
   "id": "348768ea",
   "metadata": {},
   "outputs": [],
   "source": [
    "#scraping available job's name\n",
    "\n",
    "final['Job_Post']=sel.xpath('//div[@class=\"heading_4_5 profile\"]/a').xpath('normalize-space(./text())').extract()\n",
    "final['Job_Post']"
   ]
  },
  {
   "cell_type": "code",
   "execution_count": null,
   "id": "2cab113f",
   "metadata": {},
   "outputs": [],
   "source": [
    "final['Company']=sel.xpath('//a[@class=\"link_display_like_text\"]').xpath('normalize-space(./text())').extract()\n",
    "final['Company']"
   ]
  },
  {
   "cell_type": "code",
   "execution_count": null,
   "id": "884f4430",
   "metadata": {},
   "outputs": [],
   "source": [
    "#scraping the city name for the job (the toughest part, due to the fact that a single job post can have mutiple job locations)\n",
    "\n",
    "#scraping each job's locations in a different list thus forming a nested list,ind_location\n",
    "ind_location=[]\n",
    "final['Location']=[]\n",
    "for i in final['ID']:\n",
    "    ind_location.append(sel.xpath(\"//div[@internshipid='\" + i + \"']//a[@class='location_link']\").xpath('normalize-space(./text())').extract())\n",
    "\n",
    "#converting the nested list above and storing in a normal list, final['Location']  \n",
    "for i in ind_location:\n",
    "    s=''\n",
    "    c=0\n",
    "    if len(i)>1:\n",
    "        for j in i:\n",
    "            if c>0:\n",
    "                s=s+', '+j\n",
    "            else:\n",
    "                s=s+j\n",
    "            c+=1\n",
    "    else:\n",
    "        s=i[0]\n",
    "    final['Location'].append(s)\n",
    "\n",
    "final['Location']"
   ]
  },
  {
   "cell_type": "code",
   "execution_count": null,
   "id": "46d280a5",
   "metadata": {},
   "outputs": [],
   "source": [
    "to_remove={0:[\"\\n                \",\"\\n               \"],\\\n",
    "           1:['\\n             ','\\n            ']}\n",
    "\n",
    "def remove_(attr,remove):\n",
    "    for i in remove:\n",
    "        final[attr]=[f.replace(i, \"\") for f in final[attr]]\n",
    "\n",
    "final['CTC']=sel.xpath('//div[@class=\"internship_other_details_container\"]/div[1]/div[2]/div[2]/text()').extract()                                   \n",
    "remove_('CTC',to_remove[0])\n",
    "final['CTC'] = ['₹'+v for i, v in enumerate(final['CTC']) if(i % 2)]\n",
    "final['CTC']"
   ]
  },
  {
   "cell_type": "code",
   "execution_count": null,
   "id": "51794503",
   "metadata": {},
   "outputs": [],
   "source": [
    "final['Apply By']=sel.xpath('//div[@class=\"internship_other_details_container\"]/div[@class=\"other_detail_item_row\"][2]//div[@class=\"item_body\"]').xpath('normalize-space(./text())').extract()\n",
    "final['Apply By']"
   ]
  },
  {
   "cell_type": "code",
   "execution_count": null,
   "id": "1551c23c",
   "metadata": {},
   "outputs": [],
   "source": [
    "final_df=pd.DataFrame(final)\n",
    "final_df"
   ]
  }
 ],
 "metadata": {
  "kernelspec": {
   "display_name": "Python 3",
   "language": "python",
   "name": "python3"
  },
  "language_info": {
   "codemirror_mode": {
    "name": "ipython",
    "version": 3
   },
   "file_extension": ".py",
   "mimetype": "text/x-python",
   "name": "python",
   "nbconvert_exporter": "python",
   "pygments_lexer": "ipython3",
   "version": "3.8.8"
  }
 },
 "nbformat": 4,
 "nbformat_minor": 5
}
